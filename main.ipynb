{
 "cells": [
  {
   "cell_type": "code",
   "execution_count": null,
   "metadata": {},
   "outputs": [],
   "source": [
    "from voc12 import VOC2012"
   ]
  },
  {
   "cell_type": "code",
   "execution_count": 1,
   "metadata": {},
   "outputs": [
    {
     "name": "stdout",
     "output_type": "stream",
     "text": [
      "--2020-11-07 19:43:38--  https://s3.amazonaws.com/fast-ai-imagelocal/pascal-voc.tgz\n",
      "Resolving s3.amazonaws.com (s3.amazonaws.com)... 52.217.48.182\n",
      "Connecting to s3.amazonaws.com (s3.amazonaws.com)|52.217.48.182|:443... connected.\n",
      "HTTP request sent, awaiting response... 200 OK\n",
      "Length: 4639722845 (4.3G) [application/x-tar]\n",
      "Saving to: ‘pascal-voc.tgz’\n",
      "\n",
      "pascal-voc.tgz       87%[================>   ]   3.79G   522KB/s    in 3m 37s  \n",
      "\n",
      "\n",
      "Cannot write to ‘pascal-voc.tgz’ (Success).\n"
     ]
    }
   ],
   "source": [
    "!wget https://s3.amazonaws.com/fast-ai-imagelocal/pascal-voc.tgz \n",
    "!tar -xvzf ./pascal-voc.tgz"
   ]
  },
  {
   "cell_type": "code",
   "execution_count": null,
   "metadata": {},
   "outputs": [],
   "source": []
  }
 ],
 "metadata": {
  "kernelspec": {
   "display_name": "Python 3",
   "language": "python",
   "name": "python3"
  },
  "language_info": {
   "codemirror_mode": {
    "name": "ipython",
    "version": 3
   },
   "file_extension": ".py",
   "mimetype": "text/x-python",
   "name": "python",
   "nbconvert_exporter": "python",
   "pygments_lexer": "ipython3",
   "version": "3.7.1"
  }
 },
 "nbformat": 4,
 "nbformat_minor": 1
}
