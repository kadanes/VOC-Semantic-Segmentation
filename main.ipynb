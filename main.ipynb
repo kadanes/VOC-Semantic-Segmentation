{
 "cells": [
  {
   "cell_type": "code",
   "execution_count": 1,
   "metadata": {},
   "outputs": [],
   "source": [
    "from voc12 import VOC2012\n",
    "import numpy as np\n",
    "from numpy import array\n",
    "import matplotlib.pyplot as plt\n",
    "import random\n",
    "import pathlib\n",
    "import torch\n",
    "\n",
    "from model.Naive import Naive\n",
    "from train import train, predict\n",
    "from criterion.CrossEntropy import getCrossEntropyLoss\n",
    "\n"
   ]
  },
  {
   "cell_type": "code",
   "execution_count": 2,
   "metadata": {},
   "outputs": [],
   "source": [
    "# !wget https://s3.amazonaws.com/fast-ai-imagelocal/pascal-voc.tgz \n",
    "# !tar -xzf ./pascal-voc.tgz\n",
    "# !rm -rf ./pascal-voc/VOC2007"
   ]
  },
  {
   "cell_type": "code",
   "execution_count": 3,
   "metadata": {},
   "outputs": [
    {
     "name": "stdout",
     "output_type": "stream",
     "text": [
      "loading ./voc2012_train.h5\n",
      "loading ./voc2012_val.h5\n"
     ]
    }
   ],
   "source": [
    "voc2012 = VOC2012('./pascal-voc/VOC2012/')\n",
    "\n",
    "ptrain = pathlib.Path('./voc2012_train.h5')\n",
    "pval = pathlib.Path('./voc2012_val.h5')\n",
    "\n",
    "if ptrain.is_file() and pval.is_file():\n",
    "    voc2012.load_all_data()\n",
    "else:\n",
    "    voc2012.read_all_data_and_save()"
   ]
  },
  {
   "cell_type": "code",
   "execution_count": 4,
   "metadata": {},
   "outputs": [
    {
     "name": "stdout",
     "output_type": "stream",
     "text": [
      "Train count:  1464\n",
      "Val count:  1449\n",
      "Train image:  (224, 224, 3)\n",
      "Train label:  (224, 224)\n",
      "Unique classes:  [ 0  1  2  3  4  5  6  7  8  9 10 11 12 13 14 15 16 17 18 19 20]\n"
     ]
    },
    {
     "data": {
      "image/png": "[encoded data removed]",
      "text/plain": [
       "<Figure size 72x144 with 2 Axes>"
      ]
     },
     "metadata": {
      "needs_background": "light"
     },
     "output_type": "display_data"
    }
   ],
   "source": [
    "print(\"Train count: \", len(voc2012.train_images))\n",
    "print(\"Val count: \", len(voc2012.val_images))\n",
    "\n",
    "print(\"Train image: \", voc2012.train_images[0].shape)\n",
    "print(\"Train label: \", voc2012.train_labels[0].shape)\n",
    "\n",
    "print(\"Unique classes: \", np.unique(voc2012.train_labels))\n",
    "\n",
    "\n",
    "plt.figure(figsize=(1,2)) # specifying the overall grid size\n",
    "\n",
    "\n",
    "plt.subplot(1,2,1)    # the number of images in the grid is 5*5 (25)\n",
    "plt.imshow(voc2012.train_images[0])\n",
    "\n",
    "plt.subplot(1,2,2)    # the number of images in the grid is 5*5 (25)\n",
    "plt.imshow(voc2012.train_labels[0], cmap='hot')\n",
    "\n",
    "plt.show()\n",
    "\n",
    "\n",
    "\n",
    "# f, axarr = plt.subplots(2,2)\n",
    "# axarr[0,0].imshow(voc2012.train_images[0])\n",
    "\n",
    "\n",
    "# axarr[0,1].imshow(voc2012.train_labels[0], cmap='hot')\n",
    "# # axarr[0,1].colorbar()\n",
    "# # plt.show()\n"
   ]
  },
  {
   "cell_type": "code",
   "execution_count": 5,
   "metadata": {},
   "outputs": [
    {
     "name": "stdout",
     "output_type": "stream",
     "text": [
      "Epoch:1, Loss:1.7040\n"
     ]
    }
   ],
   "source": [
    "# Naive model training \n",
    "\n",
    "naive = Naive()\n",
    "criterion = getCrossEntropyLoss()\n",
    "train(naive, voc2012, criterion, num_epochs=1, batch_size=64, learning_rate=1e-3, weight_decay=1e-5)"
   ]
  },
  {
   "cell_type": "code",
   "execution_count": null,
   "metadata": {},
   "outputs": [],
   "source": [
    "def labelVisualize(num_class,color_dict,img):\n",
    "    img_out = np.zeros(img.shape + (3,))\n",
    "    for i in range(num_class):\n",
    "        img_out[img == i,:] = color_dict[i]\n",
    "        \n",
    "    return (img_out / 255)\n",
    "\n",
    "color_dict = range(100, 1000, 25)\n",
    "color_dict = [*color_dict][:21]\n",
    "print(color_dict)\n",
    "\n",
    "plt.imshow(voc2012.train_images[1])\n",
    "plt.show()\n",
    "\n",
    "\n",
    "plt.imshow(voc2012.train_labels[1], cmap='hot')\n",
    "plt.colorbar()\n",
    "plt.show()\n",
    "\n",
    "img = np.expand_dims(voc2012.train_images[1], axis=0)\n",
    "# print(img.shape)\n",
    "\n",
    "pred = predict(naive, img)\n",
    "\n",
    "plt.imshow(labelVisualize(21, color_dict, pred))\n"
   ]
  },
  {
   "cell_type": "code",
   "execution_count": null,
   "metadata": {},
   "outputs": [],
   "source": []
  }
 ],
 "metadata": {
  "kernelspec": {
   "display_name": "Python 3",
   "language": "python",
   "name": "python3"
  },
  "language_info": {
   "codemirror_mode": {
    "name": "ipython",
    "version": 3
   },
   "file_extension": ".py",
   "mimetype": "text/x-python",
   "name": "python",
   "nbconvert_exporter": "python",
   "pygments_lexer": "ipython3",
   "version": "3.7.1"
  }
 },
 "nbformat": 4,
 "nbformat_minor": 1
}
