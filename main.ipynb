{
 "cells": [
  {
   "cell_type": "code",
   "execution_count": 13,
   "metadata": {},
   "outputs": [],
   "source": [
    "from voc12 import VOC2012\n",
    "import numpy as np\n",
    "from numpy import array\n",
    "import matplotlib.pyplot as plt\n",
    "import random"
   ]
  },
  {
   "cell_type": "code",
   "execution_count": 3,
   "metadata": {},
   "outputs": [],
   "source": [
    "# !wget https://s3.amazonaws.com/fast-ai-imagelocal/pascal-voc.tgz \n",
    "# !tar -xzf ./pascal-voc.tgz\n",
    "# !rm -rf ./pascal-voc/VOC2007"
   ]
  },
  {
   "cell_type": "code",
   "execution_count": 2,
   "metadata": {},
   "outputs": [],
   "source": [
    "voc2012 = VOC2012('./pascal-voc/VOC2012/')"
   ]
  },
  {
   "cell_type": "code",
   "execution_count": 3,
   "metadata": {},
   "outputs": [
    {
     "name": "stdout",
     "output_type": "stream",
     "text": [
      "Reading train images 100 / 1464\n",
      "Reading train images 200 / 1464\n",
      "Reading train images 300 / 1464\n",
      "Reading train images 400 / 1464\n",
      "Reading train images 500 / 1464\n",
      "Reading train images 600 / 1464\n",
      "Reading train images 700 / 1464\n",
      "Reading train images 800 / 1464\n",
      "Reading train images 900 / 1464\n",
      "Reading train images 1000 / 1464\n",
      "Reading train images 1100 / 1464\n",
      "Reading train images 1200 / 1464\n",
      "Reading train images 1300 / 1464\n",
      "Reading train images 1400 / 1464\n",
      "Reading train labels 100 / 1464\n",
      "Reading train labels 200 / 1464\n",
      "Reading train labels 300 / 1464\n",
      "Reading train labels 400 / 1464\n",
      "Reading train labels 500 / 1464\n",
      "Reading train labels 600 / 1464\n",
      "Reading train labels 700 / 1464\n",
      "Reading train labels 800 / 1464\n",
      "Reading train labels 900 / 1464\n",
      "Reading train labels 1000 / 1464\n",
      "Reading train labels 1100 / 1464\n",
      "Reading train labels 1200 / 1464\n",
      "Reading train labels 1300 / 1464\n",
      "Reading train labels 1400 / 1464\n",
      "Reading val images 100 / 1449\n",
      "Reading val images 200 / 1449\n",
      "Reading val images 300 / 1449\n",
      "Reading val images 400 / 1449\n",
      "Reading val images 500 / 1449\n",
      "Reading val images 600 / 1449\n",
      "Reading val images 700 / 1449\n",
      "Reading val images 800 / 1449\n",
      "Reading val images 900 / 1449\n",
      "Reading val images 1000 / 1449\n",
      "Reading val images 1100 / 1449\n",
      "Reading val images 1200 / 1449\n",
      "Reading val images 1300 / 1449\n",
      "Reading val images 1400 / 1449\n",
      "Reading val labels 100 / 1449\n",
      "Reading val labels 200 / 1449\n",
      "Reading val labels 300 / 1449\n",
      "Reading val labels 400 / 1449\n",
      "Reading val labels 500 / 1449\n",
      "Reading val labels 600 / 1449\n",
      "Reading val labels 700 / 1449\n",
      "Reading val labels 800 / 1449\n",
      "Reading val labels 900 / 1449\n",
      "Reading val labels 1000 / 1449\n",
      "Reading val labels 1100 / 1449\n",
      "Reading val labels 1200 / 1449\n",
      "Reading val labels 1300 / 1449\n",
      "Reading val labels 1400 / 1449\n",
      "saving ./voc2012_train.h5\n",
      "saving ./voc2012_val.h5\n"
     ]
    }
   ],
   "source": [
    "voc2012.read_all_data_and_save()"
   ]
  },
  {
   "cell_type": "code",
   "execution_count": 26,
   "metadata": {},
   "outputs": [
    {
     "name": "stdout",
     "output_type": "stream",
     "text": [
      "Train count:  1464\n",
      "Val count:  1449\n"
     ]
    },
    {
     "ename": "TypeError",
     "evalue": "figure() got multiple values for argument 'figsize'",
     "output_type": "error",
     "traceback": [
      "\u001b[0;31m---------------------------------------------------------------------------\u001b[0m",
      "\u001b[0;31mTypeError\u001b[0m                                 Traceback (most recent call last)",
      "\u001b[0;32m<ipython-input-26-f38c46908d37>\u001b[0m in \u001b[0;36m<module>\u001b[0;34m\u001b[0m\n\u001b[1;32m      7\u001b[0m \u001b[0;34m\u001b[0m\u001b[0m\n\u001b[1;32m      8\u001b[0m \u001b[0;34m\u001b[0m\u001b[0m\n\u001b[0;32m----> 9\u001b[0;31m \u001b[0mplt\u001b[0m\u001b[0;34m.\u001b[0m\u001b[0mfigure\u001b[0m\u001b[0;34m(\u001b[0m\u001b[0;36m1\u001b[0m\u001b[0;34m,\u001b[0m \u001b[0;36m2\u001b[0m\u001b[0;34m,\u001b[0m \u001b[0mfigsize\u001b[0m\u001b[0;34m=\u001b[0m\u001b[0;34m(\u001b[0m\u001b[0;36m1\u001b[0m\u001b[0;34m,\u001b[0m\u001b[0;36m2\u001b[0m\u001b[0;34m)\u001b[0m\u001b[0;34m)\u001b[0m \u001b[0;31m# specifying the overall grid size\u001b[0m\u001b[0;34m\u001b[0m\u001b[0;34m\u001b[0m\u001b[0m\n\u001b[0m\u001b[1;32m     10\u001b[0m \u001b[0;34m\u001b[0m\u001b[0m\n\u001b[1;32m     11\u001b[0m \u001b[0;34m\u001b[0m\u001b[0m\n",
      "\u001b[0;31mTypeError\u001b[0m: figure() got multiple values for argument 'figsize'"
     ]
    }
   ],
   "source": [
    "print(\"Train count: \", len(voc2012.train_images))\n",
    "print(\"Val count: \", len(voc2012.val_images))\n",
    "\n",
    "# print(\"Train image: \", voc2012.train_images[0], \"\\n\", voc2012.train_images[0].shape)\n",
    "# print(\"Train label: \", voc2012.train_labels[0], \"\\n\", voc2012.train_labels[0].shape)\n",
    "\n",
    "\n",
    "\n",
    "plt.figure(figsize=(1,2)) # specifying the overall grid size\n",
    "\n",
    "\n",
    "plt.subplot(1,2,1)    # the number of images in the grid is 5*5 (25)\n",
    "plt.imshow(voc2012.train_images[0])\n",
    "\n",
    "plt.subplot(1,2,2)    # the number of images in the grid is 5*5 (25)\n",
    "plt.imshow(voc2012.train_labels[0], cmap='hot')\n",
    "\n",
    "plt.show()\n",
    "\n",
    "\n",
    "\n",
    "# f, axarr = plt.subplots(2,2)\n",
    "# axarr[0,0].imshow(voc2012.train_images[0])\n",
    "\n",
    "\n",
    "# axarr[0,1].imshow(voc2012.train_labels[0], cmap='hot')\n",
    "# # axarr[0,1].colorbar()\n",
    "# # plt.show()\n"
   ]
  },
  {
   "cell_type": "code",
   "execution_count": null,
   "metadata": {},
   "outputs": [],
   "source": []
  }
 ],
 "metadata": {
  "kernelspec": {
   "display_name": "Python 3",
   "language": "python",
   "name": "python3"
  },
  "language_info": {
   "codemirror_mode": {
    "name": "ipython",
    "version": 3
   },
   "file_extension": ".py",
   "mimetype": "text/x-python",
   "name": "python",
   "nbconvert_exporter": "python",
   "pygments_lexer": "ipython3",
   "version": "3.7.1"
  }
 },
 "nbformat": 4,
 "nbformat_minor": 1
}
